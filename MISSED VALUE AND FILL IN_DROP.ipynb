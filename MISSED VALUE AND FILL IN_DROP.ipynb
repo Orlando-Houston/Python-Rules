{
 "cells": [
  {
   "cell_type": "code",
   "execution_count": null,
   "metadata": {},
   "outputs": [],
   "source": [
    "data.isnull().sum()\n",
    "data.isnull().sum().any()\n",
    "data.isnull().any()\n",
    "\n",
    "data.columns[data.isnull().any()]\n",
    "data.isnull().values.any()\n",
    "data.isnull().sum().sort_values(ascending = False)\n",
    "\n",
    "data[data['embarked'].isnull()]\n",
    "\n",
    "data.body.isnull().sum()\n",
    "data.body.notnull().sum()\n",
    "##data[data['body'].notnull()]\n",
    "#data[data['body'].isnull()]\n",
    "\n",
    "\n",
    "\n",
    "\n",
    "total =num_var.isnull().sum().sort_values(ascending =False)\n",
    "percent = (num_var.isnull().sum()/num_var.isnull().count()).sort_values(ascending = False)\n",
    "missing_df =pd.concat([total,percent],axis =1,join ='outer',keys =['Total Missing','% of missing'])\n",
    "\n",
    "missing_df\n",
    "\n",
    "\n",
    "\n"
   ]
  },
  {
   "cell_type": "code",
   "execution_count": null,
   "metadata": {},
   "outputs": [],
   "source": [
    "# enterplolasyon,interpolate methods. iki aralik arasindaki ortalamayi alip dolduruyor\n",
    "data['body]']=data.body.interpolate().head(10)\n",
    "data['body']=data.body.interpolate()\n",
    "\n",
    " body_mean= data['body'].mean()\n",
    "    data.iloc[0,12]=body_mean\n",
    "\n",
    "    # I fill it with Embarki 'S'\n",
    "data[\"embarked\"] = data[\"embarked\"].fillna(\"S\")\n",
    "data[data[\"embarked\"].isnull()]\n",
    "\n",
    "\n",
    "\n",
    "data.fare.fillna(value =data.fare.median(),inplace =True)\n",
    "data[data[\"fare\"].isnull()]\n",
    "\n",
    "data.age.fillna(value =data.age.mean(),inplace =True)\n",
    "data[data[\"age\"].isnull()]\n",
    "\n",
    "\n",
    "#change only one column of data\n",
    "# replaced with most frequent\n",
    "data['cabin']=data.fillna({'cabin':'C23'})\n",
    "\n",
    "\n",
    "\n",
    "social['intfreq'].fillna(0)\n"
   ]
  },
  {
   "cell_type": "code",
   "execution_count": null,
   "metadata": {},
   "outputs": [],
   "source": [
    "# # https://www.shanelynn.ie/pandas-drop-delete-dataframe-rows-columns/"
   ]
  },
  {
   "cell_type": "markdown",
   "metadata": {},
   "source": [
    "# DROP"
   ]
  },
  {
   "cell_type": "code",
   "execution_count": null,
   "metadata": {},
   "outputs": [],
   "source": [
    "social['intfreq'].dropna().head(10)\n",
    "\n",
    "#we can add value\n",
    " data.loc['row','atribute_name']=\n",
    "\n",
    "satir dusurmek icin    data = data.drop(labels =1000,axis=0)\n",
    "\n",
    "drop single variable and two variables\n",
    " data.drop('body]',axis =1,inplace =True)\n",
    "data.drop(['body]','home.dest'],axis=1,inplace =True)\n",
    "data.info()\n",
    "\n",
    "\n",
    "\n",
    "# sutun silme\n",
    "data.drop('body',axis =1,inplace =True)\n",
    "data.drop(['body]','home.dest'],axis=1,inplace =True)\n",
    "\n",
    "\n",
    "newdataset1=dataset.drop([\"video_id\",\"trending_date\"], axis=1)\n",
    "\n",
    "\n",
    "boston_X.drop(['NOX','RAD'],axis =1,inplace= True)\n",
    "boston_X.head(1)\n",
    "\n",
    "\n",
    "\n",
    "\n",
    "df = original_df.copy()\n",
    "\n",
    "df = df.drop(columns=['Gender', 'Age'])\n",
    "\n",
    "df\n",
    "\n",
    "\n",
    "social=social.drop_duplicates()\n",
    "\n",
    "\n",
    "social['intfreq'].dropna()\n"
   ]
  },
  {
   "cell_type": "markdown",
   "metadata": {},
   "source": [
    "## AVERAGE"
   ]
  },
  {
   "cell_type": "code",
   "execution_count": null,
   "metadata": {},
   "outputs": [],
   "source": [
    "np.std(data1['age'])\n",
    "np.median(data1['age'])\n",
    "np.nanmedian(data1['age'])\n",
    "np.mean(data['age'])"
   ]
  },
  {
   "cell_type": "code",
   "execution_count": null,
   "metadata": {},
   "outputs": [],
   "source": [
    "data['attr'].mean()"
   ]
  },
  {
   "cell_type": "code",
   "execution_count": null,
   "metadata": {},
   "outputs": [],
   "source": [
    "body_mean= data['body'].mean()\n",
    "data.iloc[0,12]=body_mean"
   ]
  },
  {
   "cell_type": "code",
   "execution_count": null,
   "metadata": {},
   "outputs": [],
   "source": [
    "data.fare.fillna(value =data.fare.median(),inplace =True)\n",
    "data[data[\"fare\"].isnull()]\n"
   ]
  },
  {
   "cell_type": "code",
   "execution_count": null,
   "metadata": {},
   "outputs": [],
   "source": [
    "ans3 = df['lead_time'].median(skipna=True)"
   ]
  },
  {
   "cell_type": "code",
   "execution_count": null,
   "metadata": {},
   "outputs": [],
   "source": [
    "np.median(data['attr'])\n",
    "np.nanmedian(data['attr'])"
   ]
  },
  {
   "cell_type": "code",
   "execution_count": null,
   "metadata": {},
   "outputs": [],
   "source": [
    "np.corrcoeff(data['attr'],data['attr'])\n",
    "\n",
    "np.mean(social['intfreq'])"
   ]
  },
  {
   "cell_type": "code",
   "execution_count": null,
   "metadata": {},
   "outputs": [],
   "source": [
    "Perform the following aggregation operations on df:\n",
    "\n",
    "compute the max and the min on the column Age.\n",
    "Compute the mean on the column Weight.\n",
    "compute the max, min and mean on the column Height.\n",
    "Assign the new dataframe to df_aggr.\n",
    "\n",
    "### YOUR SOLUTION HERE\n",
    "df_aggr = df.aggregate({ \"Age\":['max', 'min'], \n",
    "              \"Weight\":['mean'],  \n",
    "              \"Height\":['max', 'min', 'mean']}) "
   ]
  },
  {
   "cell_type": "code",
   "execution_count": null,
   "metadata": {},
   "outputs": [],
   "source": []
  }
 ],
 "metadata": {
  "kernelspec": {
   "display_name": "Python 3",
   "language": "python",
   "name": "python3"
  },
  "language_info": {
   "codemirror_mode": {
    "name": "ipython",
    "version": 3
   },
   "file_extension": ".py",
   "mimetype": "text/x-python",
   "name": "python",
   "nbconvert_exporter": "python",
   "pygments_lexer": "ipython3",
   "version": "3.8.5"
  }
 },
 "nbformat": 4,
 "nbformat_minor": 4
}
