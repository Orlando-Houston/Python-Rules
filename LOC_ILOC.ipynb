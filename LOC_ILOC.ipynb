{
 "cells": [
  {
   "cell_type": "code",
   "execution_count": null,
   "metadata": {},
   "outputs": [],
   "source": [
    "df = original_df.copy()\n",
    "\n",
    "df = df.iloc[:,0:4]\n",
    "\n",
    "df\n",
    "\n",
    "print(sdf.loc[0, 'a'])\n",
    "\n",
    "sdf.loc[0, 'a'] = True\n",
    "\n",
    "sdf\n",
    "\n",
    "sdf.loc[3] = True\n",
    "\n",
    "sdf\n",
    "\n",
    "sdf.loc[7, ['a', 'c', 'f']] = True\n",
    "\n",
    "sdf\n",
    "\n",
    "\n",
    "\n",
    "\n",
    "sdf.loc[9] = [True, False, True, False, True, False]\n",
    "\n",
    "sdf\n",
    "\n",
    "\n",
    "\n",
    "# Here we use the slice operation to select rows 3 and 4, and columns d, e and f\n",
    "sdf.loc[3:4, 'd':'f'] = [['a','a','a'], ['b','b','b']]\n",
    "\n",
    "sdf\n",
    "\n",
    "\n",
    "\n",
    "df_1 = df.loc[3:11, \"ID\": \"Height\"]\n",
    "\n",
    "\n",
    "df_year = df.loc[df.Year > 1980]\n",
    "df_country = df_year.loc[df_year.Team.isin([\"China\", \"United States\", \"Italy\", \"Spain\"])]\n"
   ]
  },
  {
   "cell_type": "code",
   "execution_count": null,
   "metadata": {},
   "outputs": [],
   "source": [
    "df_3 = df.iloc[[0, 10, 20, 40, 43, 66],[0, 3, 5]]"
   ]
  },
  {
   "cell_type": "code",
   "execution_count": null,
   "metadata": {},
   "outputs": [],
   "source": [
    "Using the function iloc() select the rows with index 0, 10, 20, 40, 43, 66 and \n",
    "the columns with index 0, 3, 5 from the dataframe df.\n",
    "Store your results in a dataframe called df_3.\n",
    "\n",
    "\n",
    "### YOUR SOLUTION HERE\n",
    "df_3 = df.iloc[[0, 10, 20, 40, 43, 66],[0, 3, 5]]\n",
    "### END SOLUTION"
   ]
  }
 ],
 "metadata": {
  "kernelspec": {
   "display_name": "Python 3",
   "language": "python",
   "name": "python3"
  },
  "language_info": {
   "codemirror_mode": {
    "name": "ipython",
    "version": 3
   },
   "file_extension": ".py",
   "mimetype": "text/x-python",
   "name": "python",
   "nbconvert_exporter": "python",
   "pygments_lexer": "ipython3",
   "version": "3.8.5"
  }
 },
 "nbformat": 4,
 "nbformat_minor": 4
}
