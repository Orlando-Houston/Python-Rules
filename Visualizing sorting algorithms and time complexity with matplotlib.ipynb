{
 "cells": [
  {
   "cell_type": "code",
   "execution_count": null,
   "metadata": {},
   "outputs": [],
   "source": [
    "# Visualizing sorting algorithms and time complexity with matplotlib"
   ]
  },
  {
   "cell_type": "code",
   "execution_count": 10,
   "metadata": {},
   "outputs": [],
   "source": [
    "import random\n",
    "import time\n",
    "import matplotlib.pyplot as plt\n",
    "import matplotlib.animation as animation\n"
   ]
  },
  {
   "cell_type": "code",
   "execution_count": 11,
   "metadata": {},
   "outputs": [],
   "source": [
    "def swap(A, i, j):\n",
    "    \"\"\"Helper function to swap elements i and j of list A.\"\"\"\n",
    "\n",
    "    if i != j:\n",
    "        A[i], A[j] = A[j], A[i]"
   ]
  },
  {
   "cell_type": "code",
   "execution_count": 12,
   "metadata": {},
   "outputs": [],
   "source": [
    "## buble sort"
   ]
  },
  {
   "cell_type": "code",
   "execution_count": 30,
   "metadata": {},
   "outputs": [
    {
     "ename": "NameError",
     "evalue": "name 'method' is not defined",
     "output_type": "error",
     "traceback": [
      "\u001b[1;31m---------------------------------------------------------------------------\u001b[0m",
      "\u001b[1;31mNameError\u001b[0m                                 Traceback (most recent call last)",
      "\u001b[1;32m<ipython-input-30-06f5ca0f71f3>\u001b[0m in \u001b[0;36m<module>\u001b[1;34m\u001b[0m\n\u001b[0;32m    122\u001b[0m \u001b[1;33m\u001b[0m\u001b[0m\n\u001b[0;32m    123\u001b[0m \u001b[1;33m\u001b[0m\u001b[0m\n\u001b[1;32m--> 124\u001b[1;33m \u001b[1;32mif\u001b[0m \u001b[0mmethod\u001b[0m \u001b[1;33m==\u001b[0m \u001b[1;34m\"b\"\u001b[0m\u001b[1;33m:\u001b[0m\u001b[1;33m\u001b[0m\u001b[1;33m\u001b[0m\u001b[0m\n\u001b[0m\u001b[0;32m    125\u001b[0m     \u001b[0mtitle\u001b[0m \u001b[1;33m=\u001b[0m \u001b[1;34m\"Bubble sort\"\u001b[0m\u001b[1;33m\u001b[0m\u001b[1;33m\u001b[0m\u001b[0m\n\u001b[0;32m    126\u001b[0m     \u001b[0mgenerator\u001b[0m \u001b[1;33m=\u001b[0m \u001b[0mbubblesort\u001b[0m\u001b[1;33m(\u001b[0m\u001b[0mA\u001b[0m\u001b[1;33m)\u001b[0m\u001b[1;33m\u001b[0m\u001b[1;33m\u001b[0m\u001b[0m\n",
      "\u001b[1;31mNameError\u001b[0m: name 'method' is not defined"
     ]
    }
   ],
   "source": [
    "def bubblesort(A):\n",
    "    \"\"\"In-place bubble sort.\"\"\"\n",
    "\n",
    "    if len(A) == 1:\n",
    "        return\n",
    "\n",
    "    swapped = True\n",
    "    for i in range(len(A) - 1):\n",
    "        if not swapped:\n",
    "            break\n",
    "        swapped = False\n",
    "        for j in range(len(A) - 1 - i):\n",
    "            if A[j] > A[j + 1]:\n",
    "                swap(A, j, j + 1)\n",
    "                swapped = True\n",
    "            yield A\n",
    "            \n",
    "def insertionsort(A):\n",
    "    \"\"\"In-place insertion sort.\"\"\"\n",
    "\n",
    "    for i in range(1, len(A)):\n",
    "        j = i\n",
    "        while j > 0 and A[j] < A[j - 1]:\n",
    "            swap(A, j, j - 1)\n",
    "            j -= 1\n",
    "            yield A           \n",
    "\n",
    "            \n",
    "def insertionsort(A):\n",
    "    \"\"\"In-place insertion sort.\"\"\"\n",
    "\n",
    "    for i in range(1, len(A)):\n",
    "        j = i\n",
    "        while j > 0 and A[j] < A[j - 1]:\n",
    "            swap(A, j, j - 1)\n",
    "            j -= 1\n",
    "            yield A\n",
    "            \n",
    "            \n",
    "def mergesort(A, start, end):\n",
    "    \"\"\"Merge sort.\"\"\"\n",
    "\n",
    "    if end <= start:\n",
    "        return\n",
    "\n",
    "    mid = start + ((end - start + 1) // 2) - 1\n",
    "    yield from mergesort(A, start, mid)\n",
    "    yield from mergesort(A, mid + 1, end)\n",
    "    yield from merge(A, start, mid, end)\n",
    "    yield A\n",
    "    \n",
    "    \n",
    "    \n",
    "def merge(A, start, mid, end):\n",
    "    \"\"\"Helper function for merge sort.\"\"\"\n",
    "\n",
    "    merged = []\n",
    "    leftIdx = start\n",
    "    rightIdx = mid + 1\n",
    "\n",
    "    while leftIdx <= mid and rightIdx <= end:\n",
    "        if A[leftIdx] < A[rightIdx]:\n",
    "            merged.append(A[leftIdx])\n",
    "            leftIdx += 1\n",
    "        else:\n",
    "            merged.append(A[rightIdx])\n",
    "            rightIdx += 1\n",
    "\n",
    "    while leftIdx <= mid:\n",
    "        merged.append(A[leftIdx])\n",
    "        leftIdx += 1\n",
    "\n",
    "    while rightIdx <= end:\n",
    "        merged.append(A[rightIdx])\n",
    "        rightIdx += 1\n",
    "\n",
    "    for i, sorted_val in enumerate(merged):\n",
    "        A[start + i] = sorted_val\n",
    "        yield A\n",
    "        \n",
    "        \n",
    "        \n",
    "def quicksort(A, start, end):\n",
    "    \"\"\"In-place quicksort.\"\"\"\n",
    "\n",
    "    if start >= end:\n",
    "        return\n",
    "\n",
    "    pivot = A[end]\n",
    "    pivotIdx = start\n",
    "\n",
    "    for i in range(start, end):\n",
    "        if A[i] < pivot:\n",
    "            swap(A, i, pivotIdx)\n",
    "            pivotIdx += 1\n",
    "        yield A\n",
    "    swap(A, end, pivotIdx)\n",
    "    yield A\n",
    "\n",
    "    yield from quicksort(A, start, pivotIdx - 1)\n",
    "    yield from quicksort(A, pivotIdx + 1, end)\n",
    "    \n",
    "    \n",
    "\n",
    "def selectionsort(A):\n",
    "    \"\"\"In-place selection sort.\"\"\"\n",
    "    if len(A) == 1:\n",
    "        return\n",
    "\n",
    "    for i in range(len(A)):\n",
    "        # Find minimum unsorted value.\n",
    "        minVal = A[i]\n",
    "        minIdx = i\n",
    "        for j in range(i, len(A)):\n",
    "            if A[j] < minVal:\n",
    "                minVal = A[j]\n",
    "                minIdx = j\n",
    "            yield A\n",
    "        swap(A, i, minIdx)\n",
    "        yield A\n",
    "        \n",
    "        \n",
    "        \n",
    "if method == \"b\":\n",
    "    title = \"Bubble sort\"\n",
    "    generator = bubblesort(A)\n",
    "            \n",
    "elif method == \"i\":\n",
    "    title = \"Insertion sort\"\n",
    "    generator = insertionsort(A)\n",
    "elif method == \"m\":\n",
    "    title = \"Merge sort\"\n",
    "    generator = mergesort(A, 0, N - 1)\n",
    "elif method == \"q\":\n",
    "    title = \"Quicksort\"\n",
    "    generator = quicksort(A, 0, N - 1)\n",
    "else:\n",
    "    title = \"Selection sort\"\n",
    "    generator = selectionsort(A)\n",
    "        \n",
    "        \n"
   ]
  },
  {
   "cell_type": "code",
   "execution_count": 25,
   "metadata": {},
   "outputs": [
    {
     "ename": "NameError",
     "evalue": "name 'title' is not defined",
     "output_type": "error",
     "traceback": [
      "\u001b[1;31m---------------------------------------------------------------------------\u001b[0m",
      "\u001b[1;31mNameError\u001b[0m                                 Traceback (most recent call last)",
      "\u001b[1;32m<ipython-input-25-636b69a6a6cb>\u001b[0m in \u001b[0;36m<module>\u001b[1;34m\u001b[0m\n\u001b[0;32m      1\u001b[0m \u001b[0mfig\u001b[0m\u001b[1;33m,\u001b[0m \u001b[0max\u001b[0m \u001b[1;33m=\u001b[0m \u001b[0mplt\u001b[0m\u001b[1;33m.\u001b[0m\u001b[0msubplots\u001b[0m\u001b[1;33m(\u001b[0m\u001b[1;33m)\u001b[0m\u001b[1;33m\u001b[0m\u001b[1;33m\u001b[0m\u001b[0m\n\u001b[1;32m----> 2\u001b[1;33m \u001b[0max\u001b[0m\u001b[1;33m.\u001b[0m\u001b[0mset_title\u001b[0m\u001b[1;33m(\u001b[0m\u001b[0mtitle\u001b[0m\u001b[1;33m)\u001b[0m\u001b[1;33m\u001b[0m\u001b[1;33m\u001b[0m\u001b[0m\n\u001b[0m",
      "\u001b[1;31mNameError\u001b[0m: name 'title' is not defined"
     ]
    },
    {
     "data": {
      "image/png": "[encoded data removed]",
      "text/plain": [
       "<Figure size 432x288 with 1 Axes>"
      ]
     },
     "metadata": {
      "needs_background": "light"
     },
     "output_type": "display_data"
    }
   ],
   "source": [
    "fig, ax = plt.subplots()\n",
    "ax.set_title(title)"
   ]
  },
  {
   "cell_type": "code",
   "execution_count": null,
   "metadata": {},
   "outputs": [],
   "source": [
    "bar_rects = ax.bar(range(len(A)), A, align=\"edge\")"
   ]
  },
  {
   "cell_type": "code",
   "execution_count": null,
   "metadata": {},
   "outputs": [],
   "source": [
    "text = ax.text(0.02, 0.95, \"\", transform=ax.transAxes)"
   ]
  },
  {
   "cell_type": "code",
   "execution_count": null,
   "metadata": {},
   "outputs": [],
   "source": [
    "iteration = [0]\n",
    "def update_fig(A, rects, iteration):\n",
    "    for rect, val in zip(rects, A):\n",
    "        rect.set_height(val)\n",
    "    iteration[0] += 1\n",
    "    text.set_text(\"# of operations: {}\".format(iteration[0]))"
   ]
  },
  {
   "cell_type": "code",
   "execution_count": null,
   "metadata": {},
   "outputs": [],
   "source": [
    "anim = animation.FuncAnimation(fig, func=update_fig,\n",
    "    fargs=(bar_rects, iteration), frames=generator, interval=1,\n",
    "    repeat=False)\n",
    "plt.show()"
   ]
  },
  {
   "cell_type": "code",
   "execution_count": null,
   "metadata": {},
   "outputs": [],
   "source": []
  },
  {
   "cell_type": "code",
   "execution_count": 14,
   "metadata": {},
   "outputs": [],
   "source": [
    "#insertion sort"
   ]
  },
  {
   "cell_type": "code",
   "execution_count": 15,
   "metadata": {},
   "outputs": [],
   "source": [
    "def insertionsort(A):\n",
    "    \"\"\"In-place insertion sort.\"\"\"\n",
    "\n",
    "    for i in range(1, len(A)):\n",
    "        j = i\n",
    "        while j > 0 and A[j] < A[j - 1]:\n",
    "            swap(A, j, j - 1)\n",
    "            j -= 1\n",
    "            yield A"
   ]
  },
  {
   "cell_type": "code",
   "execution_count": 16,
   "metadata": {},
   "outputs": [],
   "source": [
    "# Merge sort"
   ]
  },
  {
   "cell_type": "code",
   "execution_count": 17,
   "metadata": {},
   "outputs": [],
   "source": [
    "def mergesort(A, start, end):\n",
    "    \"\"\"Merge sort.\"\"\"\n",
    "\n",
    "    if end <= start:\n",
    "        return\n",
    "\n",
    "    mid = start + ((end - start + 1) // 2) - 1\n",
    "    yield from mergesort(A, start, mid)\n",
    "    yield from mergesort(A, mid + 1, end)\n",
    "    yield from merge(A, start, mid, end)\n",
    "    yield A"
   ]
  },
  {
   "cell_type": "code",
   "execution_count": 18,
   "metadata": {},
   "outputs": [],
   "source": [
    "def merge(A, start, mid, end):\n",
    "    \"\"\"Helper function for merge sort.\"\"\"\n",
    "\n",
    "    merged = []\n",
    "    leftIdx = start\n",
    "    rightIdx = mid + 1\n",
    "\n",
    "    while leftIdx <= mid and rightIdx <= end:\n",
    "        if A[leftIdx] < A[rightIdx]:\n",
    "            merged.append(A[leftIdx])\n",
    "            leftIdx += 1\n",
    "        else:\n",
    "            merged.append(A[rightIdx])\n",
    "            rightIdx += 1\n",
    "\n",
    "    while leftIdx <= mid:\n",
    "        merged.append(A[leftIdx])\n",
    "        leftIdx += 1\n",
    "\n",
    "    while rightIdx <= end:\n",
    "        merged.append(A[rightIdx])\n",
    "        rightIdx += 1\n",
    "\n",
    "    for i, sorted_val in enumerate(merged):\n",
    "        A[start + i] = sorted_val\n",
    "        yield A"
   ]
  },
  {
   "cell_type": "code",
   "execution_count": null,
   "metadata": {},
   "outputs": [],
   "source": []
  },
  {
   "cell_type": "code",
   "execution_count": 19,
   "metadata": {},
   "outputs": [],
   "source": [
    "def quicksort(A, start, end):\n",
    "    \"\"\"In-place quicksort.\"\"\"\n",
    "\n",
    "    if start >= end:\n",
    "        return\n",
    "\n",
    "    pivot = A[end]\n",
    "    pivotIdx = start\n",
    "\n",
    "    for i in range(start, end):\n",
    "        if A[i] < pivot:\n",
    "            swap(A, i, pivotIdx)\n",
    "            pivotIdx += 1\n",
    "        yield A\n",
    "    swap(A, end, pivotIdx)\n",
    "    yield A\n",
    "\n",
    "    yield from quicksort(A, start, pivotIdx - 1)\n",
    "    yield from quicksort(A, pivotIdx + 1, end)"
   ]
  },
  {
   "cell_type": "code",
   "execution_count": null,
   "metadata": {},
   "outputs": [],
   "source": []
  },
  {
   "cell_type": "code",
   "execution_count": 20,
   "metadata": {},
   "outputs": [],
   "source": [
    "def selectionsort(A):\n",
    "    \"\"\"In-place selection sort.\"\"\"\n",
    "    if len(A) == 1:\n",
    "        return\n",
    "\n",
    "    for i in range(len(A)):\n",
    "        # Find minimum unsorted value.\n",
    "        minVal = A[i]\n",
    "        minIdx = i\n",
    "        for j in range(i, len(A)):\n",
    "            if A[j] < minVal:\n",
    "                minVal = A[j]\n",
    "                minIdx = j\n",
    "            yield A\n",
    "        swap(A, i, minIdx)\n",
    "        yield A"
   ]
  },
  {
   "cell_type": "code",
   "execution_count": 21,
   "metadata": {},
   "outputs": [
    {
     "ename": "NameError",
     "evalue": "name 'method' is not defined",
     "output_type": "error",
     "traceback": [
      "\u001b[1;31m---------------------------------------------------------------------------\u001b[0m",
      "\u001b[1;31mNameError\u001b[0m                                 Traceback (most recent call last)",
      "\u001b[1;32m<ipython-input-21-c71beb6cdc97>\u001b[0m in \u001b[0;36m<module>\u001b[1;34m\u001b[0m\n\u001b[1;32m----> 1\u001b[1;33m \u001b[1;32mif\u001b[0m \u001b[0mmethod\u001b[0m \u001b[1;33m==\u001b[0m \u001b[1;34m\"b\"\u001b[0m\u001b[1;33m:\u001b[0m\u001b[1;33m\u001b[0m\u001b[1;33m\u001b[0m\u001b[0m\n\u001b[0m\u001b[0;32m      2\u001b[0m     \u001b[0mtitle\u001b[0m \u001b[1;33m=\u001b[0m \u001b[1;34m\"Bubble sort\"\u001b[0m\u001b[1;33m\u001b[0m\u001b[1;33m\u001b[0m\u001b[0m\n\u001b[0;32m      3\u001b[0m     \u001b[0mgenerator\u001b[0m \u001b[1;33m=\u001b[0m \u001b[0mbubblesort\u001b[0m\u001b[1;33m(\u001b[0m\u001b[0mA\u001b[0m\u001b[1;33m)\u001b[0m\u001b[1;33m\u001b[0m\u001b[1;33m\u001b[0m\u001b[0m\n\u001b[0;32m      4\u001b[0m \u001b[1;32melif\u001b[0m \u001b[0mmethod\u001b[0m \u001b[1;33m==\u001b[0m \u001b[1;34m\"i\"\u001b[0m\u001b[1;33m:\u001b[0m\u001b[1;33m\u001b[0m\u001b[1;33m\u001b[0m\u001b[0m\n\u001b[0;32m      5\u001b[0m     \u001b[0mtitle\u001b[0m \u001b[1;33m=\u001b[0m \u001b[1;34m\"Insertion sort\"\u001b[0m\u001b[1;33m\u001b[0m\u001b[1;33m\u001b[0m\u001b[0m\n",
      "\u001b[1;31mNameError\u001b[0m: name 'method' is not defined"
     ]
    }
   ],
   "source": [
    "if method == \"b\":\n",
    "    title = \"Bubble sort\"\n",
    "    generator = bubblesort(A)\n",
    "elif method == \"i\":\n",
    "    title = \"Insertion sort\"\n",
    "    generator = insertionsort(A)\n",
    "elif method == \"m\":\n",
    "    title = \"Merge sort\"\n",
    "    generator = mergesort(A, 0, N - 1)\n",
    "elif method == \"q\":\n",
    "    title = \"Quicksort\"\n",
    "    generator = quicksort(A, 0, N - 1)\n",
    "else:\n",
    "    title = \"Selection sort\"\n",
    "    generator = selectionsort(A)"
   ]
  },
  {
   "cell_type": "code",
   "execution_count": 22,
   "metadata": {},
   "outputs": [
    {
     "ename": "NameError",
     "evalue": "name 'title' is not defined",
     "output_type": "error",
     "traceback": [
      "\u001b[1;31m---------------------------------------------------------------------------\u001b[0m",
      "\u001b[1;31mNameError\u001b[0m                                 Traceback (most recent call last)",
      "\u001b[1;32m<ipython-input-22-636b69a6a6cb>\u001b[0m in \u001b[0;36m<module>\u001b[1;34m\u001b[0m\n\u001b[0;32m      1\u001b[0m \u001b[0mfig\u001b[0m\u001b[1;33m,\u001b[0m \u001b[0max\u001b[0m \u001b[1;33m=\u001b[0m \u001b[0mplt\u001b[0m\u001b[1;33m.\u001b[0m\u001b[0msubplots\u001b[0m\u001b[1;33m(\u001b[0m\u001b[1;33m)\u001b[0m\u001b[1;33m\u001b[0m\u001b[1;33m\u001b[0m\u001b[0m\n\u001b[1;32m----> 2\u001b[1;33m \u001b[0max\u001b[0m\u001b[1;33m.\u001b[0m\u001b[0mset_title\u001b[0m\u001b[1;33m(\u001b[0m\u001b[0mtitle\u001b[0m\u001b[1;33m)\u001b[0m\u001b[1;33m\u001b[0m\u001b[1;33m\u001b[0m\u001b[0m\n\u001b[0m",
      "\u001b[1;31mNameError\u001b[0m: name 'title' is not defined"
     ]
    },
    {
     "data": {
      "image/png": "[encoded data removed]",
      "text/plain": [
       "<Figure size 432x288 with 1 Axes>"
      ]
     },
     "metadata": {
      "needs_background": "light"
     },
     "output_type": "display_data"
    }
   ],
   "source": [
    "fig, ax = plt.subplots()\n",
    "ax.set_title(title)"
   ]
  },
  {
   "cell_type": "code",
   "execution_count": null,
   "metadata": {},
   "outputs": [],
   "source": [
    "bar_rects = ax.bar(range(len(A)), A, align=\"edge\")"
   ]
  },
  {
   "cell_type": "code",
   "execution_count": null,
   "metadata": {},
   "outputs": [],
   "source": [
    "text = ax.text(0.02, 0.95, \"\", transform=ax.transAxes)"
   ]
  },
  {
   "cell_type": "code",
   "execution_count": null,
   "metadata": {},
   "outputs": [],
   "source": [
    "iteration = [0]\n",
    "def update_fig(A, rects, iteration):\n",
    "    for rect, val in zip(rects, A):\n",
    "        rect.set_height(val)\n",
    "    iteration[0] += 1\n",
    "    text.set_text(\"# of operations: {}\".format(iteration[0]))"
   ]
  },
  {
   "cell_type": "code",
   "execution_count": null,
   "metadata": {},
   "outputs": [],
   "source": [
    "anim = animation.FuncAnimation(fig, func=update_fig,\n",
    "    fargs=(bar_rects, iteration), frames=generator, interval=1,\n",
    "    repeat=False)\n",
    "plt.show()"
   ]
  },
  {
   "cell_type": "code",
   "execution_count": null,
   "metadata": {},
   "outputs": [],
   "source": []
  }
 ],
 "metadata": {
  "kernelspec": {
   "display_name": "Python 3",
   "language": "python",
   "name": "python3"
  },
  "language_info": {
   "codemirror_mode": {
    "name": "ipython",
    "version": 3
   },
   "file_extension": ".py",
   "mimetype": "text/x-python",
   "name": "python",
   "nbconvert_exporter": "python",
   "pygments_lexer": "ipython3",
   "version": "3.8.5"
  }
 },
 "nbformat": 4,
 "nbformat_minor": 4
}
