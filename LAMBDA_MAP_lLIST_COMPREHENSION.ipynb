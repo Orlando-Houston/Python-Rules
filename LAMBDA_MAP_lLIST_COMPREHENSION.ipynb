{
 "cells": [
  {
   "cell_type": "code",
   "execution_count": null,
   "metadata": {},
   "outputs": [],
   "source": [
    "df = original_df.copy()\n",
    "\n",
    "# create our new column\n",
    "new_gender = df.Gender.map(lambda g: 'f' if g == 'Female' else 'm')\n",
    "\n",
    "\n",
    "\n",
    "\n",
    "df_subset[\"New sex\"] = df_subset.Sex.map(lambda x: 'male' if x == 'M' else 'female')\n",
    "\n",
    "# assign our new column to the 'Gender' column of the Dataframe:\n",
    "df.Gender = new_gender\n",
    "\n",
    "df.head()\n",
    "\n",
    "\n",
    "\n",
    "\n",
    "height_new = height.rename(lambda x: x ** 2)"
   ]
  },
  {
   "cell_type": "markdown",
   "metadata": {},
   "source": [
    "## LIST COMPREHENSION"
   ]
  },
  {
   "cell_type": "code",
   "execution_count": null,
   "metadata": {},
   "outputs": [],
   "source": [
    "#Get creative with Python list comprehensions to select columns dynamically.\n",
    "year_data = df[[col for col in df.columns if col.startswith('Years')]]\n",
    "\n",
    "year_data.head()\n"
   ]
  }
 ],
 "metadata": {
  "kernelspec": {
   "display_name": "Python 3",
   "language": "python",
   "name": "python3"
  },
  "language_info": {
   "codemirror_mode": {
    "name": "ipython",
    "version": 3
   },
   "file_extension": ".py",
   "mimetype": "text/x-python",
   "name": "python",
   "nbconvert_exporter": "python",
   "pygments_lexer": "ipython3",
   "version": "3.8.5"
  }
 },
 "nbformat": 4,
 "nbformat_minor": 4
}
