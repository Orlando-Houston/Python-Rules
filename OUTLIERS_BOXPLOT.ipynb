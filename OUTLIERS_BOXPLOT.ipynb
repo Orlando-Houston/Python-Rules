{
 "cells": [
  {
   "cell_type": "code",
   "execution_count": null,
   "metadata": {},
   "outputs": [],
   "source": [
    "fig,ax=plt.subplots(1,1, figsize=(5,5))\n",
    "sns.boxplot(data['atr',df['atr']])\n",
    "plt.show"
   ]
  },
  {
   "cell_type": "code",
   "execution_count": null,
   "metadata": {},
   "outputs": [],
   "source": [
    "data['attr'].plot(kind ='box');"
   ]
  },
  {
   "cell_type": "code",
   "execution_count": null,
   "metadata": {},
   "outputs": [],
   "source": [
    "data.boxplot(column='fare',by ='embarked')\n",
    "plt.show()"
   ]
  },
  {
   "cell_type": "code",
   "execution_count": null,
   "metadata": {},
   "outputs": [],
   "source": [
    "import seaborn as sns\n",
    "from collections import Counter\n",
    "\n",
    "\n",
    "def detect_outliers(df,features):\n",
    "    outlier_indices =[]\n",
    "    \n",
    "    for c in features:\n",
    "        Q1 = np.percentile(df[c],25)\n",
    "        Q3 = np.percentile(df[c],75)\n",
    "                \n",
    "        IQR = Q3-Q1\n",
    "        outlier_step =IQR*1.5\n",
    "        outlier_list_col = df[(df[c]< Q1 -outlier_step) | (df[c] > Q3  + outlier_step)].index\n",
    "        outlier_indices.extend(outlier_list_col) \n",
    "        outlier_indices = Counter(outlier_indices)\n",
    "        multiple_outliers =list(i for i, v in outlier_indices.items()if v>2)\n",
    "        return multiple_outliers"
   ]
  },
  {
   "cell_type": "code",
   "execution_count": null,
   "metadata": {},
   "outputs": [],
   "source": [
    "## for numeric variables \n",
    "data.loc[detect_outliers(data,[\"age\",\"sibsp\",\"parch\",\"fare\"])]\n"
   ]
  },
  {
   "cell_type": "code",
   "execution_count": null,
   "metadata": {},
   "outputs": [],
   "source": [
    "# if we have outlier ,we can use below process\n",
    "#drop outliers\n",
    "data = data.drop(detect_outliers(data,[\"age\",\"sibsp\",\"parch\",\"fare\"]),axis =0).reset_index(drop = True)\n"
   ]
  },
  {
   "cell_type": "code",
   "execution_count": null,
   "metadata": {},
   "outputs": [],
   "source": [
    "data.boxplot(column='fare',by ='embarked')\n",
    "plt.show()\n"
   ]
  },
  {
   "cell_type": "code",
   "execution_count": null,
   "metadata": {},
   "outputs": [],
   "source": [
    "fig,ax = plt.subplots(1,1, figsize=(5,5))                       \n",
    "sns.boxplot(df['Attrition'], df['MonthlyIncome']) \n",
    "plt.show() "
   ]
  },
  {
   "cell_type": "code",
   "execution_count": null,
   "metadata": {},
   "outputs": [],
   "source": [
    "sns.boxplot(sale_price)"
   ]
  },
  {
   "cell_type": "code",
   "execution_count": null,
   "metadata": {},
   "outputs": [],
   "source": []
  }
 ],
 "metadata": {
  "kernelspec": {
   "display_name": "Python 3",
   "language": "python",
   "name": "python3"
  },
  "language_info": {
   "codemirror_mode": {
    "name": "ipython",
    "version": 3
   },
   "file_extension": ".py",
   "mimetype": "text/x-python",
   "name": "python",
   "nbconvert_exporter": "python",
   "pygments_lexer": "ipython3",
   "version": "3.8.5"
  }
 },
 "nbformat": 4,
 "nbformat_minor": 4
}
