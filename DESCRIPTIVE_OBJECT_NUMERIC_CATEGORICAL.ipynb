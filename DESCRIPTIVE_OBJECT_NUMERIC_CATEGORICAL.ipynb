{
 "cells": [
  {
   "cell_type": "code",
   "execution_count": null,
   "metadata": {},
   "outputs": [],
   "source": [
    "data.head()\n",
    "data.sample()\n",
    "data.tail()\n",
    "\n",
    "\n",
    "\n",
    "# We may see Categoric  cariables\n",
    "data.describe(include=['O'])\n",
    "\n",
    "# ignore null entries\n",
    "data.describe()\n",
    "\n",
    "data.['attr'].describe()\n",
    "\n",
    "data.shape\n",
    "\n",
    "data.ndim\n",
    "data.columns\n",
    "data.info()\n",
    "\n",
    "data['age'].head()\n",
    "\n",
    "\n",
    "\n",
    "type()\n",
    "data.dtype\n",
    "# how many numerical columns\n",
    "data1.select_dtypes(include = np.number).shape[1]# columns\n",
    "# how many categoric  columns\n",
    "data1.select_dtypes(include = object).shape[1]\n",
    "\n",
    "\n",
    "num_var =data1.select_dtypes(include =np.number)\n"
   ]
  },
  {
   "cell_type": "code",
   "execution_count": null,
   "metadata": {},
   "outputs": [],
   "source": [
    "# info()\n",
    "info()"
   ]
  },
  {
   "cell_type": "markdown",
   "metadata": {},
   "source": [
    "# Unique()"
   ]
  },
  {
   "cell_type": "code",
   "execution_count": null,
   "metadata": {},
   "outputs": [],
   "source": [
    "data.unique()\n",
    "data['attr'].unique()\n",
    "data1.age.unique()\n",
    "\n",
    "object_col=[]\n",
    "for column in data.columns:\n",
    "    if data[column].dtype == object and len(df[column].unique())<=30:\n",
    "        object_col.append(column)\n",
    "        print(f\"{column}: {df[column].unique()}\")\n",
    "        print(df[column].value_counts())\n",
    "        print(\"===============================\")\n",
    "object_col.remove('Attrition')\n",
    "\n",
    "\n",
    "\n",
    "## number of unique values\n",
    "for column in data1.columns:\n",
    "    print(f\"{column}: Number of unique values{data1[column].nunique()}\")\n",
    "\n"
   ]
  },
  {
   "cell_type": "markdown",
   "metadata": {},
   "source": [
    "## Count /Frequincies"
   ]
  },
  {
   "cell_type": "code",
   "execution_count": null,
   "metadata": {},
   "outputs": [],
   "source": [
    "data.count()\n",
    "data['attr'].count()"
   ]
  },
  {
   "cell_type": "code",
   "execution_count": null,
   "metadata": {},
   "outputs": [],
   "source": [
    "data1.value_counts()\n",
    "data1['age'].value_counts()"
   ]
  },
  {
   "cell_type": "code",
   "execution_count": null,
   "metadata": {},
   "outputs": [],
   "source": []
  },
  {
   "cell_type": "code",
   "execution_count": null,
   "metadata": {},
   "outputs": [],
   "source": []
  },
  {
   "cell_type": "code",
   "execution_count": null,
   "metadata": {},
   "outputs": [],
   "source": []
  },
  {
   "cell_type": "markdown",
   "metadata": {},
   "source": [
    "# FIND TO NUMERICAL VARIABLES"
   ]
  },
  {
   "cell_type": "code",
   "execution_count": null,
   "metadata": {},
   "outputs": [],
   "source": [
    "new_num= data_name.select_types(include =['float64','int64'])\n",
    "new_categoric.head()"
   ]
  },
  {
   "cell_type": "markdown",
   "metadata": {},
   "source": [
    "# Find to Categorical Variables"
   ]
  },
  {
   "cell_type": "code",
   "execution_count": null,
   "metadata": {},
   "outputs": [],
   "source": [
    "new_categoric= data_name.select_types(include =['object'])\n",
    "new_categoric.head()"
   ]
  },
  {
   "cell_type": "markdown",
   "metadata": {},
   "source": [
    "# convert object , float or categorical"
   ]
  },
  {
   "cell_type": "code",
   "execution_count": null,
   "metadata": {},
   "outputs": [],
   "source": [
    "# convert object , float or categorical\n",
    "data['age']=data['age'].astype('float')\n",
    "data['age']=data['age'].astype('catogory')\n",
    "df=df.select_dtypes(include=['float64','int64'])\n",
    "df=df.astype(float)\n",
    "\n",
    "\n",
    "\n",
    "\n",
    "\n",
    "\n",
    "\n",
    "\n",
    "['neye cevirmek istiyoryum_name']=df['hangi attribute u'].apply(lambda x : int (x))\n",
    "['neye cevirmek istiyorum_name'].dtypes\n",
    "\n",
    "\n",
    "\n",
    "for col_nama in ['attr','attr']:\n",
    "    data[col_name]= data[col_name].astype('object')\n",
    "else:\n",
    "    pass"
   ]
  },
  {
   "cell_type": "code",
   "execution_count": null,
   "metadata": {},
   "outputs": [],
   "source": []
  },
  {
   "cell_type": "code",
   "execution_count": null,
   "metadata": {},
   "outputs": [],
   "source": []
  }
 ],
 "metadata": {
  "kernelspec": {
   "display_name": "Python 3",
   "language": "python",
   "name": "python3"
  },
  "language_info": {
   "codemirror_mode": {
    "name": "ipython",
    "version": 3
   },
   "file_extension": ".py",
   "mimetype": "text/x-python",
   "name": "python",
   "nbconvert_exporter": "python",
   "pygments_lexer": "ipython3",
   "version": "3.8.5"
  }
 },
 "nbformat": 4,
 "nbformat_minor": 4
}
