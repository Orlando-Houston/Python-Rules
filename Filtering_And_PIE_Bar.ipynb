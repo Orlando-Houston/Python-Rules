{
 "cells": [
  {
   "cell_type": "code",
   "execution_count": null,
   "metadata": {},
   "outputs": [],
   "source": [
    "#https://datascientyst.com/get-top-10-highest-lowest-values-pandas/"
   ]
  },
  {
   "cell_type": "code",
   "execution_count": null,
   "metadata": {},
   "outputs": [],
   "source": [
    "data['Population'].nlargest(n=10)"
   ]
  },
  {
   "cell_type": "code",
   "execution_count": null,
   "metadata": {},
   "outputs": [],
   "source": [
    "# 1- We are sorting the dataset by populations Descending.\n",
    "# 2- Reset index.\n",
    "# 3- Get the first 10\n",
    "top_ten = data.sort_values('Population', ascending=False).reset_index(drop=True).head(10)\n",
    "top_ten "
   ]
  },
  {
   "cell_type": "code",
   "execution_count": null,
   "metadata": {},
   "outputs": [],
   "source": [
    "# Pie chart, \n",
    "labels = top_ten['Country']\n",
    "sizes = top_ten['Population']\n",
    "\n",
    "fig1, ax1 = plt.subplots(figsize=(10, 10))\n",
    "ax1.pie(sizes,  labels=labels, autopct='%1.1f%%', startangle=90)\n",
    "ax1.axis('equal')  # Equal aspect ratio ensures that pie is drawn as a circle.\n",
    "\n",
    "plt.show()"
   ]
  },
  {
   "cell_type": "code",
   "execution_count": null,
   "metadata": {},
   "outputs": [],
   "source": [
    "# Bar Chart\n",
    "c_name = top_ten['Country']\n",
    "c_pop = top_ten['Population']\n",
    "\n",
    "fig = plt.figure(figsize = (10, 5))\n",
    "# creating the bar plot\n",
    "plt.bar(c_name, c_pop, color ='maroon',\n",
    "        width = 0.4)\n",
    "plt.xticks(rotation=90)\n",
    "\n",
    "plt.xlabel(\"Countries\")\n",
    "plt.ylabel(\"Population\")\n",
    "plt.title(\"Top 10 countries by populations \")\n",
    "plt.show()"
   ]
  },
  {
   "cell_type": "code",
   "execution_count": null,
   "metadata": {},
   "outputs": [],
   "source": [
    "# 1- We are sorting the dataset by fertilization rate ascending.\n",
    "# 2- Reset index.\n",
    "# 3- Get the first 10\n",
    "last_ten_by_fertil = data.sort_values('Fert. Rate').reset_index(drop=True).tail(10)\n",
    "last_ten_by_fertil"
   ]
  },
  {
   "cell_type": "code",
   "execution_count": null,
   "metadata": {},
   "outputs": [],
   "source": [
    "# Pie chart, \n",
    "labels = last_ten_by_fertil['Country']\n",
    "sizes = last_ten_by_fertil['Fert. Rate']\n",
    "\n",
    "fig1, ax1 = plt.subplots(figsize=(10, 10))\n",
    "ax1.pie(sizes,  labels=labels, autopct='%1.1f%%', startangle=90)\n",
    "ax1.axis('equal')  # Equal aspect ratio ensures that pie is drawn as a circle.\n",
    "\n",
    "plt.show()"
   ]
  },
  {
   "cell_type": "code",
   "execution_count": null,
   "metadata": {},
   "outputs": [],
   "source": [
    "# 1- We are sorting the dataset by fertilization rate ascending.\n",
    "# 2- Reset index.\n",
    "# 3- Get the first 10\n",
    "top_ten_by_fertil = data.sort_values('Fert. Rate').reset_index(drop=True).head(10)\n",
    "top_ten_by_fertil"
   ]
  },
  {
   "cell_type": "code",
   "execution_count": null,
   "metadata": {},
   "outputs": [],
   "source": [
    "# Pie chart, \n",
    "labels = top_ten_by_fertil['Country']\n",
    "sizes = top_ten_by_fertil['Fert. Rate']\n",
    "\n",
    "fig1, ax1 = plt.subplots(figsize=(10, 10))\n",
    "ax1.pie(sizes,  labels=labels, autopct='%1.1f%%', startangle=90)\n",
    "ax1.axis('equal')  # Equal aspect ratio ensures that pie is drawn as a circle.\n",
    "\n",
    "plt.show()"
   ]
  },
  {
   "cell_type": "code",
   "execution_count": null,
   "metadata": {},
   "outputs": [],
   "source": [
    "# Bar Chart\n",
    "c_name = last_ten_by_fertil['Country']\n",
    "c_pop = last_ten_by_fertil['Fert. Rate']\n",
    "\n",
    "fig = plt.figure(figsize = (10, 5))\n",
    "# creating the bar plot\n",
    "plt.bar(c_name, c_pop, color ='maroon',\n",
    "        width = 0.4)\n",
    "plt.xticks(rotation=90)\n",
    "\n",
    "plt.xlabel(\"countries\")\n",
    "plt.ylabel(\"Fertilizations\")\n",
    "plt.title(\"Last 10 countries by Fertilizations \")\n",
    "plt.show()"
   ]
  },
  {
   "cell_type": "code",
   "execution_count": null,
   "metadata": {},
   "outputs": [],
   "source": []
  }
 ],
 "metadata": {
  "kernelspec": {
   "display_name": "Python 3",
   "language": "python",
   "name": "python3"
  },
  "language_info": {
   "codemirror_mode": {
    "name": "ipython",
    "version": 3
   },
   "file_extension": ".py",
   "mimetype": "text/x-python",
   "name": "python",
   "nbconvert_exporter": "python",
   "pygments_lexer": "ipython3",
   "version": "3.8.5"
  }
 },
 "nbformat": 4,
 "nbformat_minor": 4
}
